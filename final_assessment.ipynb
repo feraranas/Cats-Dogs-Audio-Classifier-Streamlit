{
 "cells": [
  {
   "cell_type": "markdown",
   "metadata": {},
   "source": [
    "# *Importing necessary libraries*"
   ]
  },
  {
   "cell_type": "code",
   "execution_count": 1,
   "metadata": {},
   "outputs": [
    {
     "name": "stderr",
     "output_type": "stream",
     "text": [
      "/Users/fernankiwi/.pyenv/versions/3.11.0/lib/python3.11/site-packages/lazy_loader/__init__.py:185: RuntimeWarning: subpackages can technically be lazily loaded, but it causes the package to be eagerly loaded even if it is already lazily loaded.So, you probably shouldn't use subpackages with this lazy feature.\n",
      "  warnings.warn(msg, RuntimeWarning)\n",
      "/Users/fernankiwi/.pyenv/versions/3.11.0/lib/python3.11/site-packages/lazy_loader/__init__.py:185: RuntimeWarning: subpackages can technically be lazily loaded, but it causes the package to be eagerly loaded even if it is already lazily loaded.So, you probably shouldn't use subpackages with this lazy feature.\n",
      "  warnings.warn(msg, RuntimeWarning)\n"
     ]
    }
   ],
   "source": [
    "import librosa # open wav files\n",
    "import librosa.display\n",
    "import soundfile as sf\n",
    "import matplotlib.pyplot as plt\n",
    "from IPython.display import Audio\n",
    "import os # operating system via python \n",
    "import numpy as np  # linear algebra\n",
    "import pandas as pd  # CSV file\n",
    "import scipy.io.wavfile as sci_wav  # Open wav files\n",
    "import re # Using regex to match"
   ]
  },
  {
   "cell_type": "markdown",
   "metadata": {},
   "source": [
    "*Loading the wavesounds*"
   ]
  },
  {
   "cell_type": "code",
   "execution_count": 2,
   "metadata": {},
   "outputs": [],
   "source": [
    "# Defining the global path to wav files\n",
    "PATH = './cats_dogs/'"
   ]
  },
  {
   "cell_type": "code",
   "execution_count": 3,
   "metadata": {},
   "outputs": [],
   "source": [
    "# Reading all the list of files in the directory path\n",
    "def read_file_names(PATH):\n",
    "    file_name_cats = []\n",
    "    file_name_dogs = []\n",
    "    for file_path in os.listdir(PATH):\n",
    "        if os.path.isfile(os.path.join(PATH, file_path)):\n",
    "            if 'cat' in file_path:\n",
    "                file_name_cats.append(file_path)\n",
    "            elif 'dog' in file_path:\n",
    "                file_name_dogs.append(file_path)\n",
    "    return file_name_cats, file_name_dogs"
   ]
  },
  {
   "cell_type": "code",
   "execution_count": 4,
   "metadata": {},
   "outputs": [],
   "source": [
    "cats_files, dogs_files = read_file_names(PATH)"
   ]
  },
  {
   "cell_type": "code",
   "execution_count": 17,
   "metadata": {},
   "outputs": [],
   "source": [
    "cats = pd.DataFrame({'file_names': cats_files})"
   ]
  },
  {
   "cell_type": "code",
   "execution_count": 19,
   "metadata": {},
   "outputs": [
    {
     "data": {
      "text/html": [
       "<div>\n",
       "<style scoped>\n",
       "    .dataframe tbody tr th:only-of-type {\n",
       "        vertical-align: middle;\n",
       "    }\n",
       "\n",
       "    .dataframe tbody tr th {\n",
       "        vertical-align: top;\n",
       "    }\n",
       "\n",
       "    .dataframe thead th {\n",
       "        text-align: right;\n",
       "    }\n",
       "</style>\n",
       "<table border=\"1\" class=\"dataframe\">\n",
       "  <thead>\n",
       "    <tr style=\"text-align: right;\">\n",
       "      <th></th>\n",
       "      <th>file_names</th>\n",
       "    </tr>\n",
       "  </thead>\n",
       "  <tbody>\n",
       "    <tr>\n",
       "      <th>0</th>\n",
       "      <td>cat_74.wav</td>\n",
       "    </tr>\n",
       "    <tr>\n",
       "      <th>1</th>\n",
       "      <td>cat_60.wav</td>\n",
       "    </tr>\n",
       "    <tr>\n",
       "      <th>2</th>\n",
       "      <td>cat_48.wav</td>\n",
       "    </tr>\n",
       "    <tr>\n",
       "      <th>3</th>\n",
       "      <td>cat_126.wav</td>\n",
       "    </tr>\n",
       "    <tr>\n",
       "      <th>4</th>\n",
       "      <td>cat_132.wav</td>\n",
       "    </tr>\n",
       "    <tr>\n",
       "      <th>...</th>\n",
       "      <td>...</td>\n",
       "    </tr>\n",
       "    <tr>\n",
       "      <th>159</th>\n",
       "      <td>cat_92.wav</td>\n",
       "    </tr>\n",
       "    <tr>\n",
       "      <th>160</th>\n",
       "      <td>cat_45.wav</td>\n",
       "    </tr>\n",
       "    <tr>\n",
       "      <th>161</th>\n",
       "      <td>cat_51.wav</td>\n",
       "    </tr>\n",
       "    <tr>\n",
       "      <th>162</th>\n",
       "      <td>cat_79.wav</td>\n",
       "    </tr>\n",
       "    <tr>\n",
       "      <th>163</th>\n",
       "      <td>cat_7.wav</td>\n",
       "    </tr>\n",
       "  </tbody>\n",
       "</table>\n",
       "<p>164 rows × 1 columns</p>\n",
       "</div>"
      ],
      "text/plain": [
       "      file_names\n",
       "0     cat_74.wav\n",
       "1     cat_60.wav\n",
       "2     cat_48.wav\n",
       "3    cat_126.wav\n",
       "4    cat_132.wav\n",
       "..           ...\n",
       "159   cat_92.wav\n",
       "160   cat_45.wav\n",
       "161   cat_51.wav\n",
       "162   cat_79.wav\n",
       "163    cat_7.wav\n",
       "\n",
       "[164 rows x 1 columns]"
      ]
     },
     "execution_count": 19,
     "metadata": {},
     "output_type": "execute_result"
    }
   ],
   "source": [
    "cats"
   ]
  },
  {
   "cell_type": "code",
   "execution_count": 18,
   "metadata": {},
   "outputs": [],
   "source": [
    "def read_wav_files(wav_files):\n",
    "    '''Returns a list of audio waves\n",
    "    Params:\n",
    "        wav_files: List of .wav paths\n",
    "\n",
    "    Returns:\n",
    "        List of audio signals\n",
    "    '''\n",
    "    if not isinstance(wav_files, list):\n",
    "        wav_files = [wav_files]\n",
    "    return [librosa.load(PATH + f) for f in wav_files]\n",
    "    # return [sci_wav.read(PATH + f)[1] for f in wav_files]"
   ]
  },
  {
   "cell_type": "code",
   "execution_count": 22,
   "metadata": {},
   "outputs": [
    {
     "data": {
      "text/html": [
       "<div>\n",
       "<style scoped>\n",
       "    .dataframe tbody tr th:only-of-type {\n",
       "        vertical-align: middle;\n",
       "    }\n",
       "\n",
       "    .dataframe tbody tr th {\n",
       "        vertical-align: top;\n",
       "    }\n",
       "\n",
       "    .dataframe thead th {\n",
       "        text-align: right;\n",
       "    }\n",
       "</style>\n",
       "<table border=\"1\" class=\"dataframe\">\n",
       "  <thead>\n",
       "    <tr style=\"text-align: right;\">\n",
       "      <th></th>\n",
       "      <th>file_names</th>\n",
       "      <th>wav</th>\n",
       "    </tr>\n",
       "  </thead>\n",
       "  <tbody>\n",
       "    <tr>\n",
       "      <th>0</th>\n",
       "      <td>cat_74.wav</td>\n",
       "      <td>[([-0.007014099, -0.00710633, -0.005025272, -0...</td>\n",
       "    </tr>\n",
       "    <tr>\n",
       "      <th>1</th>\n",
       "      <td>cat_60.wav</td>\n",
       "      <td>[([1.3186603e-11, -1.9145078e-11, -4.9883726e-...</td>\n",
       "    </tr>\n",
       "    <tr>\n",
       "      <th>2</th>\n",
       "      <td>cat_48.wav</td>\n",
       "      <td>[([-0.3553277, -0.21875851, 0.08652463, 0.2545...</td>\n",
       "    </tr>\n",
       "    <tr>\n",
       "      <th>3</th>\n",
       "      <td>cat_126.wav</td>\n",
       "      <td>[([-2.3962094e-11, -1.8640404e-10, 2.1599858e-...</td>\n",
       "    </tr>\n",
       "    <tr>\n",
       "      <th>4</th>\n",
       "      <td>cat_132.wav</td>\n",
       "      <td>[([0.007433484, 0.009820411, 0.009567254, 0.00...</td>\n",
       "    </tr>\n",
       "    <tr>\n",
       "      <th>...</th>\n",
       "      <td>...</td>\n",
       "      <td>...</td>\n",
       "    </tr>\n",
       "    <tr>\n",
       "      <th>159</th>\n",
       "      <td>cat_92.wav</td>\n",
       "      <td>[([4.0302317e-10, 4.3779616e-10, 5.6058747e-10...</td>\n",
       "    </tr>\n",
       "    <tr>\n",
       "      <th>160</th>\n",
       "      <td>cat_45.wav</td>\n",
       "      <td>[([-3.3087654e-05, -9.7931144e-05, -0.00011544...</td>\n",
       "    </tr>\n",
       "    <tr>\n",
       "      <th>161</th>\n",
       "      <td>cat_51.wav</td>\n",
       "      <td>[([-0.0048853336, -0.019583754, -0.044075243, ...</td>\n",
       "    </tr>\n",
       "    <tr>\n",
       "      <th>162</th>\n",
       "      <td>cat_79.wav</td>\n",
       "      <td>[([-0.00040498225, -0.00055625435, -0.00053256...</td>\n",
       "    </tr>\n",
       "    <tr>\n",
       "      <th>163</th>\n",
       "      <td>cat_7.wav</td>\n",
       "      <td>[([0.0033563646, 0.0032063117, 0.001425265, -0...</td>\n",
       "    </tr>\n",
       "  </tbody>\n",
       "</table>\n",
       "<p>164 rows × 2 columns</p>\n",
       "</div>"
      ],
      "text/plain": [
       "      file_names                                                wav\n",
       "0     cat_74.wav  [([-0.007014099, -0.00710633, -0.005025272, -0...\n",
       "1     cat_60.wav  [([1.3186603e-11, -1.9145078e-11, -4.9883726e-...\n",
       "2     cat_48.wav  [([-0.3553277, -0.21875851, 0.08652463, 0.2545...\n",
       "3    cat_126.wav  [([-2.3962094e-11, -1.8640404e-10, 2.1599858e-...\n",
       "4    cat_132.wav  [([0.007433484, 0.009820411, 0.009567254, 0.00...\n",
       "..           ...                                                ...\n",
       "159   cat_92.wav  [([4.0302317e-10, 4.3779616e-10, 5.6058747e-10...\n",
       "160   cat_45.wav  [([-3.3087654e-05, -9.7931144e-05, -0.00011544...\n",
       "161   cat_51.wav  [([-0.0048853336, -0.019583754, -0.044075243, ...\n",
       "162   cat_79.wav  [([-0.00040498225, -0.00055625435, -0.00053256...\n",
       "163    cat_7.wav  [([0.0033563646, 0.0032063117, 0.001425265, -0...\n",
       "\n",
       "[164 rows x 2 columns]"
      ]
     },
     "execution_count": 22,
     "metadata": {},
     "output_type": "execute_result"
    }
   ],
   "source": [
    "cats"
   ]
  },
  {
   "cell_type": "code",
   "execution_count": 6,
   "metadata": {},
   "outputs": [],
   "source": [
    "def train_test_split(file_names, split_porcentage=0.2, seed=42):\n",
    "     np.random.seed(seed) # Set a seed for reproducibility\n",
    "     n = len(file_names)\n",
    "     k = int(n * split_porcentage)\n",
    "\n",
    "     random_permutation = np.random.permutation(n)     \n",
    "     train = [file_names[i] for i in random_permutation]\n",
    "\n",
    "     train_file_names = train[:n - k]\n",
    "     train_wav_file = read_wav_files(train_file_names)\n",
    "\n",
    "     test_file_names = train[n - k:]\n",
    "     test_wav_files = read_wav_files(test_file_names)\n",
    "\n",
    "     return train_file_names, train_wav_file, test_file_names, test_wav_files"
   ]
  },
  {
   "cell_type": "code",
   "execution_count": 7,
   "metadata": {},
   "outputs": [],
   "source": [
    "# Split train wav's from test wav's\n",
    "train_cat_names, train_cat_wav, test_cat_names, test_cat_wav = train_test_split(cats_files)\n",
    "train_dog_names, train_dog_wav, test_dog_names, test_dog_wav = train_test_split(dogs_files)"
   ]
  },
  {
   "cell_type": "code",
   "execution_count": 8,
   "metadata": {},
   "outputs": [],
   "source": [
    "dataframe = {\n",
    "     'train_cat': train_cat_wav,\n",
    "     'train_dog': train_dog_wav,\n",
    "     'test_cat': test_cat_wav,\n",
    "     'test_dog': test_dog_wav,\n",
    "}"
   ]
  },
  {
   "cell_type": "code",
   "execution_count": 9,
   "metadata": {},
   "outputs": [],
   "source": [
    "def load_dataset(dataframe):\n",
    "    df = dataframe\n",
    "    dataset = {}\n",
    "    for k in ['train_cat', 'train_dog', 'test_cat', 'test_dog']:\n",
    "        v = np.concatenate([item[0] for item in df[k]], axis=0).astype('float32')\n",
    "\n",
    "        # Compute mean and variance\n",
    "        if k == 'train_cat':\n",
    "            dog_std = dog_mean = 0\n",
    "            cat_std, cat_mean = v.std(), v.mean()\n",
    "        elif k == 'train_dog':\n",
    "            dog_std, dog_mean = v.std(), v.mean()\n",
    "\n",
    "        # Mean and variance suppression\n",
    "        std, mean = (cat_std, cat_mean) if 'cat' in k else (dog_std, dog_mean)\n",
    "        v = (v - mean) / std\n",
    "        dataset[k] = v\n",
    "\n",
    "        print('loaded {} with {} sec of audio'.format(k, len(v) / 16000))\n",
    "\n",
    "    return dataset"
   ]
  },
  {
   "cell_type": "code",
   "execution_count": 10,
   "metadata": {},
   "outputs": [
    {
     "name": "stdout",
     "output_type": "stream",
     "text": [
      "loaded train_cat with 1431.456125 sec of audio\n",
      "loaded train_dog with 660.626 sec of audio\n",
      "loaded test_cat with 393.0434375 sec of audio\n",
      "loaded test_dog with 164.100125 sec of audio\n"
     ]
    },
    {
     "data": {
      "text/plain": [
       "{'train_cat': array([-0.00340083, -0.00340083, -0.00340083, ..., -0.07006193,\n",
       "        -0.36248338, -0.26494327], dtype=float32),\n",
       " 'train_dog': array([-0.02417978, -0.02697763, -0.02313133, ...,  0.00651677,\n",
       "         0.01868594,  0.0135517 ], dtype=float32),\n",
       " 'test_cat': array([-0.00340083, -0.00340083, -0.00340083, ..., -0.00161592,\n",
       "        -0.00312608, -0.00340083], dtype=float32),\n",
       " 'test_dog': array([-0.01475155, -0.01616455, -0.01420115, ..., -0.00322242,\n",
       "        -0.0046466 , -0.00214317], dtype=float32)}"
      ]
     },
     "execution_count": 10,
     "metadata": {},
     "output_type": "execute_result"
    }
   ],
   "source": [
    "load_dataset(dataframe)"
   ]
  },
  {
   "cell_type": "code",
   "execution_count": 11,
   "metadata": {},
   "outputs": [],
   "source": [
    "def create_dataframe(file_names, wav_files):\n",
    "     return pd.DataFrame({\n",
    "          'file_name': file_names,\n",
    "          'audio_wav': [item[0] for item in wav_files],\n",
    "          'length(seconds)': [len(item[0])/item[1] for item in wav_files],\n",
    "          'number_of_samples': [len(item[0]) for item in wav_files],\n",
    "          'sample_rate': [item[1] for item in wav_files],\n",
    "          'max_amplitude': [np.array(item[0]).max() for item in wav_files],\n",
    "          'min_amplitude': [np.array(item[0]).min() for item in wav_files]\n",
    "     })\n",
    "\n",
    "cat_train_df = create_dataframe(train_cat_names, train_cat_wav)\n",
    "cat_test_df = create_dataframe(test_cat_names, test_cat_wav)\n",
    "dog_train_df = create_dataframe(train_dog_names, train_dog_wav)\n",
    "dog_test_df = create_dataframe(test_dog_names, test_dog_wav)"
   ]
  },
  {
   "cell_type": "code",
   "execution_count": 15,
   "metadata": {},
   "outputs": [
    {
     "data": {
      "text/html": [
       "<div>\n",
       "<style scoped>\n",
       "    .dataframe tbody tr th:only-of-type {\n",
       "        vertical-align: middle;\n",
       "    }\n",
       "\n",
       "    .dataframe tbody tr th {\n",
       "        vertical-align: top;\n",
       "    }\n",
       "\n",
       "    .dataframe thead th {\n",
       "        text-align: right;\n",
       "    }\n",
       "</style>\n",
       "<table border=\"1\" class=\"dataframe\">\n",
       "  <thead>\n",
       "    <tr style=\"text-align: right;\">\n",
       "      <th></th>\n",
       "      <th>file_name</th>\n",
       "      <th>audio_wav</th>\n",
       "      <th>length(seconds)</th>\n",
       "      <th>number_of_samples</th>\n",
       "      <th>sample_rate</th>\n",
       "      <th>max_amplitude</th>\n",
       "      <th>min_amplitude</th>\n",
       "    </tr>\n",
       "  </thead>\n",
       "  <tbody>\n",
       "    <tr>\n",
       "      <th>0</th>\n",
       "      <td>cat_84.wav</td>\n",
       "      <td>[1.3545656e-10, -2.2184848e-11, -2.6804926e-11...</td>\n",
       "      <td>9.120000</td>\n",
       "      <td>201096</td>\n",
       "      <td>22050</td>\n",
       "      <td>0.988553</td>\n",
       "      <td>-0.987455</td>\n",
       "    </tr>\n",
       "    <tr>\n",
       "      <th>1</th>\n",
       "      <td>cat_68.wav</td>\n",
       "      <td>[0.0, 0.0, 0.0, 0.0, 0.0, 0.0, 0.0, 0.0, 0.0, ...</td>\n",
       "      <td>2.360907</td>\n",
       "      <td>52058</td>\n",
       "      <td>22050</td>\n",
       "      <td>0.916598</td>\n",
       "      <td>-0.995885</td>\n",
       "    </tr>\n",
       "    <tr>\n",
       "      <th>2</th>\n",
       "      <td>cat_1.wav</td>\n",
       "      <td>[0.0036967827, 0.0040170797, 0.0015610287, 6.8...</td>\n",
       "      <td>11.200000</td>\n",
       "      <td>246960</td>\n",
       "      <td>22050</td>\n",
       "      <td>0.834551</td>\n",
       "      <td>-1.031164</td>\n",
       "    </tr>\n",
       "    <tr>\n",
       "      <th>3</th>\n",
       "      <td>cat_147.wav</td>\n",
       "      <td>[0.024267724, 0.029048927, 0.027480468, 0.0294...</td>\n",
       "      <td>12.000000</td>\n",
       "      <td>264600</td>\n",
       "      <td>22050</td>\n",
       "      <td>0.344687</td>\n",
       "      <td>-0.253928</td>\n",
       "    </tr>\n",
       "    <tr>\n",
       "      <th>4</th>\n",
       "      <td>cat_33.wav</td>\n",
       "      <td>[-0.0055221445, -0.0021317091, 0.0021610605, 0...</td>\n",
       "      <td>4.193107</td>\n",
       "      <td>92458</td>\n",
       "      <td>22050</td>\n",
       "      <td>1.011643</td>\n",
       "      <td>-0.919346</td>\n",
       "    </tr>\n",
       "  </tbody>\n",
       "</table>\n",
       "</div>"
      ],
      "text/plain": [
       "     file_name                                          audio_wav  \\\n",
       "0   cat_84.wav  [1.3545656e-10, -2.2184848e-11, -2.6804926e-11...   \n",
       "1   cat_68.wav  [0.0, 0.0, 0.0, 0.0, 0.0, 0.0, 0.0, 0.0, 0.0, ...   \n",
       "2    cat_1.wav  [0.0036967827, 0.0040170797, 0.0015610287, 6.8...   \n",
       "3  cat_147.wav  [0.024267724, 0.029048927, 0.027480468, 0.0294...   \n",
       "4   cat_33.wav  [-0.0055221445, -0.0021317091, 0.0021610605, 0...   \n",
       "\n",
       "   length(seconds)  number_of_samples  sample_rate  max_amplitude  \\\n",
       "0         9.120000             201096        22050       0.988553   \n",
       "1         2.360907              52058        22050       0.916598   \n",
       "2        11.200000             246960        22050       0.834551   \n",
       "3        12.000000             264600        22050       0.344687   \n",
       "4         4.193107              92458        22050       1.011643   \n",
       "\n",
       "   min_amplitude  \n",
       "0      -0.987455  \n",
       "1      -0.995885  \n",
       "2      -1.031164  \n",
       "3      -0.253928  \n",
       "4      -0.919346  "
      ]
     },
     "execution_count": 15,
     "metadata": {},
     "output_type": "execute_result"
    }
   ],
   "source": [
    "cat_train_df.head()\n",
    "# cat_train_df['train_cat_wav'][0]"
   ]
  },
  {
   "cell_type": "code",
   "execution_count": 17,
   "metadata": {},
   "outputs": [
    {
     "data": {
      "text/html": [
       "<div>\n",
       "<style scoped>\n",
       "    .dataframe tbody tr th:only-of-type {\n",
       "        vertical-align: middle;\n",
       "    }\n",
       "\n",
       "    .dataframe tbody tr th {\n",
       "        vertical-align: top;\n",
       "    }\n",
       "\n",
       "    .dataframe thead th {\n",
       "        text-align: right;\n",
       "    }\n",
       "</style>\n",
       "<table border=\"1\" class=\"dataframe\">\n",
       "  <thead>\n",
       "    <tr style=\"text-align: right;\">\n",
       "      <th></th>\n",
       "      <th>file_name</th>\n",
       "      <th>audio_wav</th>\n",
       "      <th>length(seconds)</th>\n",
       "      <th>number_of_samples</th>\n",
       "      <th>sample_rate</th>\n",
       "      <th>max_amplitude</th>\n",
       "      <th>min_amplitude</th>\n",
       "    </tr>\n",
       "  </thead>\n",
       "  <tbody>\n",
       "    <tr>\n",
       "      <th>0</th>\n",
       "      <td>dog_barking_11.wav</td>\n",
       "      <td>[-0.0017590539, -0.0019561895, -0.001682266, -...</td>\n",
       "      <td>9.297098</td>\n",
       "      <td>205001</td>\n",
       "      <td>22050</td>\n",
       "      <td>0.956572</td>\n",
       "      <td>-0.997793</td>\n",
       "    </tr>\n",
       "    <tr>\n",
       "      <th>1</th>\n",
       "      <td>dog_barking_9.wav</td>\n",
       "      <td>[-2.9603589e-05, -3.141236e-05, -2.9355077e-05...</td>\n",
       "      <td>1.763719</td>\n",
       "      <td>38890</td>\n",
       "      <td>22050</td>\n",
       "      <td>0.867343</td>\n",
       "      <td>-0.995093</td>\n",
       "    </tr>\n",
       "    <tr>\n",
       "      <th>2</th>\n",
       "      <td>dog_barking_92.wav</td>\n",
       "      <td>[-0.00032149986, -0.0005554668, -0.00056589936...</td>\n",
       "      <td>11.300000</td>\n",
       "      <td>249165</td>\n",
       "      <td>22050</td>\n",
       "      <td>0.578467</td>\n",
       "      <td>-0.581965</td>\n",
       "    </tr>\n",
       "    <tr>\n",
       "      <th>3</th>\n",
       "      <td>dog_barking_77.wav</td>\n",
       "      <td>[-1.9376983e-05, -3.2515894e-05, -0.0001455399...</td>\n",
       "      <td>2.536916</td>\n",
       "      <td>55939</td>\n",
       "      <td>22050</td>\n",
       "      <td>0.863318</td>\n",
       "      <td>-1.001017</td>\n",
       "    </tr>\n",
       "    <tr>\n",
       "      <th>4</th>\n",
       "      <td>dog_barking_33.wav</td>\n",
       "      <td>[-3.1116426e-05, 4.7645976e-06, 6.317729e-05, ...</td>\n",
       "      <td>3.862902</td>\n",
       "      <td>85177</td>\n",
       "      <td>22050</td>\n",
       "      <td>0.794215</td>\n",
       "      <td>-1.000062</td>\n",
       "    </tr>\n",
       "  </tbody>\n",
       "</table>\n",
       "</div>"
      ],
      "text/plain": [
       "            file_name                                          audio_wav  \\\n",
       "0  dog_barking_11.wav  [-0.0017590539, -0.0019561895, -0.001682266, -...   \n",
       "1   dog_barking_9.wav  [-2.9603589e-05, -3.141236e-05, -2.9355077e-05...   \n",
       "2  dog_barking_92.wav  [-0.00032149986, -0.0005554668, -0.00056589936...   \n",
       "3  dog_barking_77.wav  [-1.9376983e-05, -3.2515894e-05, -0.0001455399...   \n",
       "4  dog_barking_33.wav  [-3.1116426e-05, 4.7645976e-06, 6.317729e-05, ...   \n",
       "\n",
       "   length(seconds)  number_of_samples  sample_rate  max_amplitude  \\\n",
       "0         9.297098             205001        22050       0.956572   \n",
       "1         1.763719              38890        22050       0.867343   \n",
       "2        11.300000             249165        22050       0.578467   \n",
       "3         2.536916              55939        22050       0.863318   \n",
       "4         3.862902              85177        22050       0.794215   \n",
       "\n",
       "   min_amplitude  \n",
       "0      -0.997793  \n",
       "1      -0.995093  \n",
       "2      -0.581965  \n",
       "3      -1.001017  \n",
       "4      -1.000062  "
      ]
     },
     "execution_count": 17,
     "metadata": {},
     "output_type": "execute_result"
    }
   ],
   "source": [
    "dog_test_df.head()"
   ]
  },
  {
   "cell_type": "markdown",
   "metadata": {},
   "source": [
    "# *Plot some of this waves*"
   ]
  },
  {
   "cell_type": "code",
   "execution_count": null,
   "metadata": {},
   "outputs": [],
   "source": [
    "print(cat_train_df['file_name'][10]) # cat_130.wav\n",
    "plt.figure(figsize=(12, 4))\n",
    "librosa.display.waveshow(cat_train_df['audio_wav'][10], sr = cat_train_df['sample_rate'][10])\n",
    "plt.show()"
   ]
  },
  {
   "cell_type": "code",
   "execution_count": null,
   "metadata": {},
   "outputs": [],
   "source": [
    "print(cat_test_df['file_name'][10]) # cat_29.wav\n",
    "plt.figure(figsize=(12, 4))\n",
    "librosa.display.waveshow(cat_test_df['audio_wav'][10], sr = cat_test_df['sample_rate'][10])\n",
    "plt.show()"
   ]
  },
  {
   "cell_type": "code",
   "execution_count": null,
   "metadata": {},
   "outputs": [],
   "source": [
    "plt.figure(figsize=(12, 4))\n",
    "librosa.display.waveshow(dog_train_df['audio_wav'][10], sr = dog_train_df['sample_rate'][10])\n",
    "plt.show()"
   ]
  },
  {
   "cell_type": "code",
   "execution_count": null,
   "metadata": {},
   "outputs": [],
   "source": [
    "plt.figure(figsize=(12, 4))\n",
    "librosa.display.waveshow(dog_test_df['audio_wav'][10], sr = dog_test_df['sample_rate'][10])\n",
    "plt.show()"
   ]
  },
  {
   "cell_type": "markdown",
   "metadata": {},
   "source": [
    "# Time Domain\n",
    "\n",
    "# Frequency Features\n",
    "- Amplitude\n",
    "- Frequency\n",
    "- Amplitude Envelope\n",
    "- RMS (ADSR Model)\n",
    "- Zero Cross Rate"
   ]
  },
  {
   "cell_type": "code",
   "execution_count": null,
   "metadata": {},
   "outputs": [],
   "source": [
    "# Plotting a histogram of the Maximum Amplitude for Cats\n",
    "plt.hist(cat_train_df['max_amplitude']+cat_test_df['max_amplitude'], bins=20, edgecolor='k')\n",
    "plt.xlabel('Max Amplitude')\n",
    "plt.ylabel('Frequency')\n",
    "plt.title('Histogram of Maximum Amplitudes [Cats dataset]')\n",
    "plt.grid(True)\n",
    "plt.show()"
   ]
  },
  {
   "cell_type": "code",
   "execution_count": null,
   "metadata": {},
   "outputs": [],
   "source": [
    "# Plotting a histogram of the Minimum Amplitude for Cats\n",
    "plt.hist(cat_train_df['min_amplitude']+cat_test_df['min_amplitude'], bins=20, edgecolor='k')\n",
    "plt.xlabel('Max Amplitude')\n",
    "plt.ylabel('Frequency')\n",
    "plt.title('Histogram of Minimum Amplitudes [Cats dataset]')\n",
    "plt.grid(True)\n",
    "plt.show()"
   ]
  },
  {
   "cell_type": "code",
   "execution_count": null,
   "metadata": {},
   "outputs": [],
   "source": []
  }
 ],
 "metadata": {
  "kernelspec": {
   "display_name": "Python 3",
   "language": "python",
   "name": "python3"
  },
  "language_info": {
   "codemirror_mode": {
    "name": "ipython",
    "version": 3
   },
   "file_extension": ".py",
   "mimetype": "text/x-python",
   "name": "python",
   "nbconvert_exporter": "python",
   "pygments_lexer": "ipython3",
   "version": "3.11.0"
  },
  "orig_nbformat": 4
 },
 "nbformat": 4,
 "nbformat_minor": 2
}
